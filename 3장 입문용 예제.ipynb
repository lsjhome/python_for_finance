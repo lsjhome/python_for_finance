{
 "cells": [
  {
   "cell_type": "markdown",
   "metadata": {},
   "source": [
    "# 3. 입문용 예제"
   ]
  },
  {
   "cell_type": "markdown",
   "metadata": {},
   "source": [
    "***내재 변동성***\n",
    "\n",
    "옵션의 호가로부터 이 옵션의 내재 변동성을 구하고 만기일과 행사가에 따른 그래프를 그려본다. 이 작업은 옵션 트레이더나 리스크 관리자들이 매일 해야 하는 일이다."
   ]
  },
  {
   "cell_type": "markdown",
   "metadata": {},
   "source": [
    "***몬테카를로 시뮬레이션***\n",
    "\n",
    "주가지수가 시간에 따라 변화하는 것을 시뮬레이션하고 일부 결과를 시각화한다. 또한 주가지수에 따른 유러피안 옵션 가치도 계산한다. 몬테카를로 시뮬레이션은 옵션 가격 뿐만 아니라 VAR(value at rist) 값이나 CVA(credit value adjustment) 값을 이용한 위험 관리에서도 가장 기본적인 작업이다."
   ]
  },
  {
   "cell_type": "markdown",
   "metadata": {},
   "source": [
    "*** 기술적 분석 ***\n",
    "\n",
    "추세 신호에 기반한 투자 전략을 백테스트하기 위해 시계열 자로 분석 작업을 구현한다."
   ]
  },
  {
   "cell_type": "markdown",
   "metadata": {},
   "source": [
    "## 3-1 내재 변동성 계산"
   ]
  },
  {
   "cell_type": "markdown",
   "metadata": {},
   "source": [
    "블랙-숄즈-머튼 모형과 같은 옵션 가격 계산 공식을 이용하면 변동성 값을 입력하여 옵션의 가격을 계산할 수 있다. 내재 변동성을 구하는 일은 함수의 입력 변수인 변동성 값을 구하는 작업이기 때문에 결국 수치적 최적화 문제이다.\n",
    "\n",
    "우선 배당이 없는 기초자산에 대한 유러피안 콜 옵션 가격결정을 위한 블랙-숄즈-머튼모형을 다음 수식으로 설명한다. t = 0을 가정한다"
   ]
  },
  {
   "cell_type": "markdown",
   "metadata": {},
   "source": [
    "수식 3-1"
   ]
  },
  {
   "cell_type": "code",
   "execution_count": 27,
   "metadata": {},
   "outputs": [],
   "source": [
    "# 블랙-숄즈-머튼 관련 함수\n",
    "\n",
    "def bsm_call_value(S0, K, T, r, sigma):\n",
    "    ''' 블랙-숄즈-머튼 모형을 사용한 유러핑나 콜 옵션 가격결정 공식\n",
    "    \n",
    "    params\n",
    "    ======\n",
    "    S0: float\n",
    "        초기 주가 혹은 지수\n",
    "    K : float\n",
    "        행사가\n",
    "    T : float\n",
    "        만기까지 남은 시간 (연 단위)\n",
    "    r : float\n",
    "        고정 무위험 단기 이자율\n",
    "    sigma: float\n",
    "        변동성 파라미터\n",
    "        \n",
    "    returns\n",
    "    =======\n",
    "    value : float\n",
    "            유러피안 콜 옵션의 현재 가격\n",
    "    '''\n",
    "    \n",
    "    from math import log, sqrt, exp\n",
    "    from scipy import stats\n",
    "    \n",
    "    S0 = float(S0)\n",
    "    d1 = (log(S0 / K) + (r + 0.5*sigma**2) * T) / (sigma * sqrt(T))\n",
    "    d2 = (log(S0 / K) + (r - 0.5*sigma**2) * T) / (sigma * sqrt(T))\n",
    "    value = (S0 * stats.norm.cdf(d1, 0.0, 1.0) - K * exp(-r * T) * stats.norm.cdf(d2, 0.0, 1.0))\n",
    "    # stats.norm.cdf --> 정규분포의 누적확률 분포 계산\n",
    "    return value"
   ]
  },
  {
   "cell_type": "code",
   "execution_count": 28,
   "metadata": {},
   "outputs": [],
   "source": [
    "# 베가 계산 함수\n",
    "\n",
    "def bsm_vega(S0, K, T, r, sigma):\n",
    "    '''\n",
    "    params\n",
    "    ======\n",
    "    S0 : float\n",
    "        초기 주가 혹은 지수\n",
    "    K : float\n",
    "        행사가\n",
    "    T : float\n",
    "        만기까지 남은 시간(연 단위)\n",
    "    r : float\n",
    "        고정 무위험 단기 이자율\n",
    "    sigma : float\n",
    "        변동성 파라미터\n",
    "    \n",
    "    returns\n",
    "    =======\n",
    "    vega : float\n",
    "        블랙-숄즈-머튼 공식을 변동성에 대해 1차 미분한 값. 베가\n",
    "    \n",
    "    '''\n",
    "    \n",
    "    from math import log, sqrt, exp\n",
    "    from scipy import stats\n",
    "    \n",
    "    S0 = float(S0)\n",
    "    d1 = (log(S0 / K) + (r + 0.5*sigma**2) * T) / (sigma * sqrt(T))\n",
    "    vega = S0 * stats.norm.cdf(d1, 0.0, 1.0) * sqrt(T)\n",
    "    return vega"
   ]
  },
  {
   "cell_type": "code",
   "execution_count": 30,
   "metadata": {},
   "outputs": [],
   "source": [
    "# 내재 변동성 계산 함수\n",
    "\n",
    "def bsm_call_imp_vol(S0, K, T, r, C0, sigma_est, it=100):\n",
    "    '''\n",
    "    블랙-숄즈-머튼 모형을 사용한 유러피안 옵션의 내재 변동성 계산\n",
    "    \n",
    "    params\n",
    "    ======\n",
    "    S0 : float\n",
    "        초기 주가 혹은 지수\n",
    "    K : float\n",
    "        행사가\n",
    "    T : float\n",
    "        만기까지 남은 시간(연 단위)\n",
    "    r : float\n",
    "        고정 무위험 단기 이자율\n",
    "    sigma_est : float\n",
    "        변동성 파라미터 초기 추정치\n",
    "    it : integer\n",
    "        반복 계산 횟수\n",
    "        \n",
    "    returns\n",
    "    =======\n",
    "    sigma_est : float\n",
    "        수치적으로 추정한 내재 변동성\n",
    "    '''\n",
    "    for i in range(it):\n",
    "        sigma_est -= ((bsm_call_value(S0, K, T, r, sigma_est) - C0) / bsm_vega(S0, K, T, r, sigma_est))\n",
    "        \n",
    "    return sigma_est\n",
    "    "
   ]
  },
  {
   "cell_type": "markdown",
   "metadata": {},
   "source": [
    "2014년 3월 31일 시점에서 VSTOXX 지수 종가는 $V_0$ = 17.6639이다. 여기서는 주가 지수가 아닌 변동성 지수를 사용하므로 변수명을 S가 아닌 V로 한다."
   ]
  },
  {
   "cell_type": "code",
   "execution_count": 32,
   "metadata": {},
   "outputs": [],
   "source": [
    "V0 = 17.6639"
   ]
  },
  {
   "cell_type": "markdown",
   "metadata": {},
   "source": [
    "무위험 단기 이자율은 연리 1%이다."
   ]
  },
  {
   "cell_type": "code",
   "execution_count": 33,
   "metadata": {},
   "outputs": [],
   "source": [
    "r = 0.01"
   ]
  },
  {
   "cell_type": "code",
   "execution_count": 35,
   "metadata": {},
   "outputs": [],
   "source": [
    "import pandas as pd"
   ]
  },
  {
   "cell_type": "code",
   "execution_count": 39,
   "metadata": {},
   "outputs": [],
   "source": [
    "h5 = pd.HDFStore('./original/py4fi/jupyter36/source/vstoxx_data_31032014.h5', 'r')"
   ]
  },
  {
   "cell_type": "code",
   "execution_count": 41,
   "metadata": {},
   "outputs": [
    {
     "data": {
      "text/plain": [
       "<class 'pandas.io.pytables.HDFStore'>\n",
       "File path: ./original/py4fi/jupyter36/source/vstoxx_data_31032014.h5"
      ]
     },
     "execution_count": 41,
     "metadata": {},
     "output_type": "execute_result"
    }
   ],
   "source": [
    "h5"
   ]
  },
  {
   "cell_type": "code",
   "execution_count": 47,
   "metadata": {},
   "outputs": [],
   "source": [
    "futures_data = h5['futures_data'] # VSTOXX 선물 자료\n",
    "options_data = h5['options_data'] # VSTOXX 콜 옵션 자료\n",
    "h5.close()"
   ]
  },
  {
   "cell_type": "markdown",
   "metadata": {},
   "source": [
    "주어진 포워드 머니니스에 해당하는 행사가를 가진 옵션을 선택하기 위해서는 우선 선물 가격을 알아야 한다.(머니니스는 옵션의 행사가를 현재 주가 혹은 선도가격으로 나눈 갓ㅂ이다. 마니니스가 1이면 등가격 옵션이다.)"
   ]
  },
  {
   "cell_type": "code",
   "execution_count": 56,
   "metadata": {},
   "outputs": [],
   "source": [
    "import datetime as dt"
   ]
  },
  {
   "cell_type": "code",
   "execution_count": 72,
   "metadata": {},
   "outputs": [],
   "source": [
    "futures_data['DATE'] = futures_data['DATE'].apply(lambda x: dt.datetime.fromtimestamp(x / 1e9))"
   ]
  },
  {
   "cell_type": "code",
   "execution_count": 73,
   "metadata": {},
   "outputs": [],
   "source": [
    "futures_data['MATURITY'] = futures_data['MATURITY'].apply(lambda x: dt.datetime.fromtimestamp(x / 1e9))"
   ]
  },
  {
   "cell_type": "code",
   "execution_count": 74,
   "metadata": {},
   "outputs": [
    {
     "data": {
      "text/html": [
       "<div>\n",
       "<style scoped>\n",
       "    .dataframe tbody tr th:only-of-type {\n",
       "        vertical-align: middle;\n",
       "    }\n",
       "\n",
       "    .dataframe tbody tr th {\n",
       "        vertical-align: top;\n",
       "    }\n",
       "\n",
       "    .dataframe thead th {\n",
       "        text-align: right;\n",
       "    }\n",
       "</style>\n",
       "<table border=\"1\" class=\"dataframe\">\n",
       "  <thead>\n",
       "    <tr style=\"text-align: right;\">\n",
       "      <th></th>\n",
       "      <th>DATE</th>\n",
       "      <th>EXP_YEAR</th>\n",
       "      <th>EXP_MONTH</th>\n",
       "      <th>PRICE</th>\n",
       "      <th>MATURITY</th>\n",
       "      <th>TTM</th>\n",
       "    </tr>\n",
       "  </thead>\n",
       "  <tbody>\n",
       "    <tr>\n",
       "      <th>496</th>\n",
       "      <td>2014-03-31 09:00:00</td>\n",
       "      <td>2014</td>\n",
       "      <td>4</td>\n",
       "      <td>17.85</td>\n",
       "      <td>2014-04-18 09:00:00</td>\n",
       "      <td>0.049</td>\n",
       "    </tr>\n",
       "    <tr>\n",
       "      <th>497</th>\n",
       "      <td>2014-03-31 09:00:00</td>\n",
       "      <td>2014</td>\n",
       "      <td>5</td>\n",
       "      <td>19.55</td>\n",
       "      <td>2014-05-16 09:00:00</td>\n",
       "      <td>0.126</td>\n",
       "    </tr>\n",
       "    <tr>\n",
       "      <th>498</th>\n",
       "      <td>2014-03-31 09:00:00</td>\n",
       "      <td>2014</td>\n",
       "      <td>6</td>\n",
       "      <td>19.95</td>\n",
       "      <td>2014-06-20 09:00:00</td>\n",
       "      <td>0.222</td>\n",
       "    </tr>\n",
       "    <tr>\n",
       "      <th>499</th>\n",
       "      <td>2014-03-31 09:00:00</td>\n",
       "      <td>2014</td>\n",
       "      <td>7</td>\n",
       "      <td>20.40</td>\n",
       "      <td>2014-07-18 09:00:00</td>\n",
       "      <td>0.299</td>\n",
       "    </tr>\n",
       "    <tr>\n",
       "      <th>500</th>\n",
       "      <td>2014-03-31 09:00:00</td>\n",
       "      <td>2014</td>\n",
       "      <td>8</td>\n",
       "      <td>20.70</td>\n",
       "      <td>2014-08-15 09:00:00</td>\n",
       "      <td>0.375</td>\n",
       "    </tr>\n",
       "    <tr>\n",
       "      <th>501</th>\n",
       "      <td>2014-03-31 09:00:00</td>\n",
       "      <td>2014</td>\n",
       "      <td>9</td>\n",
       "      <td>20.95</td>\n",
       "      <td>2014-09-19 09:00:00</td>\n",
       "      <td>0.471</td>\n",
       "    </tr>\n",
       "    <tr>\n",
       "      <th>502</th>\n",
       "      <td>2014-03-31 09:00:00</td>\n",
       "      <td>2014</td>\n",
       "      <td>10</td>\n",
       "      <td>21.05</td>\n",
       "      <td>2014-10-17 09:00:00</td>\n",
       "      <td>0.548</td>\n",
       "    </tr>\n",
       "    <tr>\n",
       "      <th>503</th>\n",
       "      <td>2014-03-31 09:00:00</td>\n",
       "      <td>2014</td>\n",
       "      <td>11</td>\n",
       "      <td>21.25</td>\n",
       "      <td>2014-11-21 09:00:00</td>\n",
       "      <td>0.644</td>\n",
       "    </tr>\n",
       "  </tbody>\n",
       "</table>\n",
       "</div>"
      ],
      "text/plain": [
       "                   DATE  EXP_YEAR  EXP_MONTH  PRICE            MATURITY    TTM\n",
       "496 2014-03-31 09:00:00      2014          4  17.85 2014-04-18 09:00:00  0.049\n",
       "497 2014-03-31 09:00:00      2014          5  19.55 2014-05-16 09:00:00  0.126\n",
       "498 2014-03-31 09:00:00      2014          6  19.95 2014-06-20 09:00:00  0.222\n",
       "499 2014-03-31 09:00:00      2014          7  20.40 2014-07-18 09:00:00  0.299\n",
       "500 2014-03-31 09:00:00      2014          8  20.70 2014-08-15 09:00:00  0.375\n",
       "501 2014-03-31 09:00:00      2014          9  20.95 2014-09-19 09:00:00  0.471\n",
       "502 2014-03-31 09:00:00      2014         10  21.05 2014-10-17 09:00:00  0.548\n",
       "503 2014-03-31 09:00:00      2014         11  21.25 2014-11-21 09:00:00  0.644"
      ]
     },
     "execution_count": 74,
     "metadata": {},
     "output_type": "execute_result"
    }
   ],
   "source": [
    "futures_data"
   ]
  },
  {
   "cell_type": "code",
   "execution_count": 50,
   "metadata": {},
   "outputs": [
    {
     "name": "stdout",
     "output_type": "stream",
     "text": [
      "<class 'pandas.core.frame.DataFrame'>\n",
      "Int64Index: 395 entries, 46170 to 46564\n",
      "Data columns (total 8 columns):\n",
      "DATE         395 non-null int64\n",
      "EXP_YEAR     395 non-null int64\n",
      "EXP_MONTH    395 non-null int64\n",
      "TYPE         395 non-null object\n",
      "STRIKE       395 non-null float64\n",
      "PRICE        395 non-null float64\n",
      "MATURITY     395 non-null int64\n",
      "TTM          395 non-null float64\n",
      "dtypes: float64(3), int64(4), object(1)\n",
      "memory usage: 27.8+ KB\n"
     ]
    }
   ],
   "source": [
    "options_data.info()"
   ]
  },
  {
   "cell_type": "code",
   "execution_count": 75,
   "metadata": {},
   "outputs": [
    {
     "data": {
      "text/html": [
       "<div>\n",
       "<style scoped>\n",
       "    .dataframe tbody tr th:only-of-type {\n",
       "        vertical-align: middle;\n",
       "    }\n",
       "\n",
       "    .dataframe tbody tr th {\n",
       "        vertical-align: top;\n",
       "    }\n",
       "\n",
       "    .dataframe thead th {\n",
       "        text-align: right;\n",
       "    }\n",
       "</style>\n",
       "<table border=\"1\" class=\"dataframe\">\n",
       "  <thead>\n",
       "    <tr style=\"text-align: right;\">\n",
       "      <th></th>\n",
       "      <th>DATE</th>\n",
       "      <th>EXP_YEAR</th>\n",
       "      <th>EXP_MONTH</th>\n",
       "      <th>TYPE</th>\n",
       "      <th>STRIKE</th>\n",
       "      <th>PRICE</th>\n",
       "      <th>MATURITY</th>\n",
       "      <th>TTM</th>\n",
       "      <th>IMP_VOL</th>\n",
       "    </tr>\n",
       "  </thead>\n",
       "  <tbody>\n",
       "    <tr>\n",
       "      <th>46170</th>\n",
       "      <td>2014-03-31 09:00:00</td>\n",
       "      <td>2014</td>\n",
       "      <td>4</td>\n",
       "      <td>C</td>\n",
       "      <td>1.0</td>\n",
       "      <td>16.85</td>\n",
       "      <td>2014-04-18 09:00:00</td>\n",
       "      <td>0.049</td>\n",
       "      <td>0.0</td>\n",
       "    </tr>\n",
       "    <tr>\n",
       "      <th>46171</th>\n",
       "      <td>2014-03-31 09:00:00</td>\n",
       "      <td>2014</td>\n",
       "      <td>4</td>\n",
       "      <td>C</td>\n",
       "      <td>2.0</td>\n",
       "      <td>15.85</td>\n",
       "      <td>2014-04-18 09:00:00</td>\n",
       "      <td>0.049</td>\n",
       "      <td>0.0</td>\n",
       "    </tr>\n",
       "    <tr>\n",
       "      <th>46172</th>\n",
       "      <td>2014-03-31 09:00:00</td>\n",
       "      <td>2014</td>\n",
       "      <td>4</td>\n",
       "      <td>C</td>\n",
       "      <td>3.0</td>\n",
       "      <td>14.85</td>\n",
       "      <td>2014-04-18 09:00:00</td>\n",
       "      <td>0.049</td>\n",
       "      <td>0.0</td>\n",
       "    </tr>\n",
       "    <tr>\n",
       "      <th>46173</th>\n",
       "      <td>2014-03-31 09:00:00</td>\n",
       "      <td>2014</td>\n",
       "      <td>4</td>\n",
       "      <td>C</td>\n",
       "      <td>4.0</td>\n",
       "      <td>13.85</td>\n",
       "      <td>2014-04-18 09:00:00</td>\n",
       "      <td>0.049</td>\n",
       "      <td>0.0</td>\n",
       "    </tr>\n",
       "    <tr>\n",
       "      <th>46174</th>\n",
       "      <td>2014-03-31 09:00:00</td>\n",
       "      <td>2014</td>\n",
       "      <td>4</td>\n",
       "      <td>C</td>\n",
       "      <td>5.0</td>\n",
       "      <td>12.85</td>\n",
       "      <td>2014-04-18 09:00:00</td>\n",
       "      <td>0.049</td>\n",
       "      <td>0.0</td>\n",
       "    </tr>\n",
       "  </tbody>\n",
       "</table>\n",
       "</div>"
      ],
      "text/plain": [
       "                     DATE  EXP_YEAR  EXP_MONTH TYPE  STRIKE  PRICE  \\\n",
       "46170 2014-03-31 09:00:00      2014          4    C     1.0  16.85   \n",
       "46171 2014-03-31 09:00:00      2014          4    C     2.0  15.85   \n",
       "46172 2014-03-31 09:00:00      2014          4    C     3.0  14.85   \n",
       "46173 2014-03-31 09:00:00      2014          4    C     4.0  13.85   \n",
       "46174 2014-03-31 09:00:00      2014          4    C     5.0  12.85   \n",
       "\n",
       "                 MATURITY    TTM  IMP_VOL  \n",
       "46170 2014-04-18 09:00:00  0.049      0.0  \n",
       "46171 2014-04-18 09:00:00  0.049      0.0  \n",
       "46172 2014-04-18 09:00:00  0.049      0.0  \n",
       "46173 2014-04-18 09:00:00  0.049      0.0  \n",
       "46174 2014-04-18 09:00:00  0.049      0.0  "
      ]
     },
     "execution_count": 75,
     "metadata": {},
     "output_type": "execute_result"
    }
   ],
   "source": [
    "options_data.head()"
   ]
  },
  {
   "cell_type": "code",
   "execution_count": 57,
   "metadata": {},
   "outputs": [],
   "source": [
    "options_data['DATE'] = options_data['DATE'].apply(lambda x: dt.datetime.fromtimestamp(x / 1e9))"
   ]
  },
  {
   "cell_type": "code",
   "execution_count": 58,
   "metadata": {},
   "outputs": [],
   "source": [
    "options_data['MATURITY'] = options_data['MATURITY'].apply(lambda x: dt.datetime.fromtimestamp(x / 1e9))"
   ]
  },
  {
   "cell_type": "code",
   "execution_count": 76,
   "metadata": {},
   "outputs": [
    {
     "name": "stdout",
     "output_type": "stream",
     "text": [
      "<class 'pandas.core.frame.DataFrame'>\n",
      "Int64Index: 395 entries, 46170 to 46564\n",
      "Data columns (total 9 columns):\n",
      "DATE         395 non-null datetime64[ns]\n",
      "EXP_YEAR     395 non-null int64\n",
      "EXP_MONTH    395 non-null int64\n",
      "TYPE         395 non-null object\n",
      "STRIKE       395 non-null float64\n",
      "PRICE        395 non-null float64\n",
      "MATURITY     395 non-null datetime64[ns]\n",
      "TTM          395 non-null float64\n",
      "IMP_VOL      395 non-null float64\n",
      "dtypes: datetime64[ns](2), float64(4), int64(2), object(1)\n",
      "memory usage: 50.9+ KB\n"
     ]
    }
   ],
   "source": [
    "options_data.info()"
   ]
  },
  {
   "cell_type": "code",
   "execution_count": 60,
   "metadata": {},
   "outputs": [
    {
     "data": {
      "text/html": [
       "<div>\n",
       "<style scoped>\n",
       "    .dataframe tbody tr th:only-of-type {\n",
       "        vertical-align: middle;\n",
       "    }\n",
       "\n",
       "    .dataframe tbody tr th {\n",
       "        vertical-align: top;\n",
       "    }\n",
       "\n",
       "    .dataframe thead th {\n",
       "        text-align: right;\n",
       "    }\n",
       "</style>\n",
       "<table border=\"1\" class=\"dataframe\">\n",
       "  <thead>\n",
       "    <tr style=\"text-align: right;\">\n",
       "      <th></th>\n",
       "      <th>DATE</th>\n",
       "      <th>MATURITY</th>\n",
       "      <th>TTM</th>\n",
       "      <th>STRIKE</th>\n",
       "      <th>PRICE</th>\n",
       "    </tr>\n",
       "  </thead>\n",
       "  <tbody>\n",
       "    <tr>\n",
       "      <th>46170</th>\n",
       "      <td>2014-03-31 09:00:00</td>\n",
       "      <td>2014-04-18 09:00:00</td>\n",
       "      <td>0.049</td>\n",
       "      <td>1.0</td>\n",
       "      <td>16.85</td>\n",
       "    </tr>\n",
       "    <tr>\n",
       "      <th>46171</th>\n",
       "      <td>2014-03-31 09:00:00</td>\n",
       "      <td>2014-04-18 09:00:00</td>\n",
       "      <td>0.049</td>\n",
       "      <td>2.0</td>\n",
       "      <td>15.85</td>\n",
       "    </tr>\n",
       "    <tr>\n",
       "      <th>46172</th>\n",
       "      <td>2014-03-31 09:00:00</td>\n",
       "      <td>2014-04-18 09:00:00</td>\n",
       "      <td>0.049</td>\n",
       "      <td>3.0</td>\n",
       "      <td>14.85</td>\n",
       "    </tr>\n",
       "    <tr>\n",
       "      <th>46173</th>\n",
       "      <td>2014-03-31 09:00:00</td>\n",
       "      <td>2014-04-18 09:00:00</td>\n",
       "      <td>0.049</td>\n",
       "      <td>4.0</td>\n",
       "      <td>13.85</td>\n",
       "    </tr>\n",
       "    <tr>\n",
       "      <th>46174</th>\n",
       "      <td>2014-03-31 09:00:00</td>\n",
       "      <td>2014-04-18 09:00:00</td>\n",
       "      <td>0.049</td>\n",
       "      <td>5.0</td>\n",
       "      <td>12.85</td>\n",
       "    </tr>\n",
       "  </tbody>\n",
       "</table>\n",
       "</div>"
      ],
      "text/plain": [
       "                     DATE            MATURITY    TTM  STRIKE  PRICE\n",
       "46170 2014-03-31 09:00:00 2014-04-18 09:00:00  0.049     1.0  16.85\n",
       "46171 2014-03-31 09:00:00 2014-04-18 09:00:00  0.049     2.0  15.85\n",
       "46172 2014-03-31 09:00:00 2014-04-18 09:00:00  0.049     3.0  14.85\n",
       "46173 2014-03-31 09:00:00 2014-04-18 09:00:00  0.049     4.0  13.85\n",
       "46174 2014-03-31 09:00:00 2014-04-18 09:00:00  0.049     5.0  12.85"
      ]
     },
     "execution_count": 60,
     "metadata": {},
     "output_type": "execute_result"
    }
   ],
   "source": [
    "options_data[['DATE', 'MATURITY', 'TTM', 'STRIKE', 'PRICE']].head()"
   ]
  },
  {
   "cell_type": "code",
   "execution_count": 61,
   "metadata": {},
   "outputs": [],
   "source": [
    "options_data['IMP_VOL'] = 0.0\n",
    " # 내재 변동성을 저장할 새로운 열"
   ]
  },
  {
   "cell_type": "code",
   "execution_count": 77,
   "metadata": {},
   "outputs": [],
   "source": [
    "tol = 0.5 # 머니니스 범위\n",
    "\n",
    "for option in options_data.index:\n",
    "    # 모든 옵션 시장가에 대해 반복\n",
    "    forward = futures_data[futures_data['MATURITY'] == \\\n",
    "                          options_data.loc[option]['MATURITY']]['PRICE'].values[0]\n",
    "    # 옵션과 만기가 일치하는 선물 선택\n",
    "    if (forward * (1 - tol) < options_data.loc[option]['STRIKE'] < forward * (1 + tol)):\n",
    "        # 머니니스 범위 내의 옵션만 선택\n",
    "        imp_vol = bsm_call_imp_vol(\n",
    "                                    V0,  # VSTOXX value \n",
    "                                    options_data.loc[option]['STRIKE'],\n",
    "                                    options_data.loc[option]['TTM'],\n",
    "                                    r,   # 단기 이자율, short rate\n",
    "                                    options_data.loc[option]['PRICE'],\n",
    "                                    sigma_est=2.,  # 내재 변동성의 초기 추정치, estimate for implied volatility\n",
    "                                    it=100)\n",
    "        options_data.ix[option, 'IMP_VOL'] = imp_vol"
   ]
  },
  {
   "cell_type": "code",
   "execution_count": 78,
   "metadata": {},
   "outputs": [
    {
     "data": {
      "text/plain": [
       "496   2014-04-18 09:00:00\n",
       "497   2014-05-16 09:00:00\n",
       "498   2014-06-20 09:00:00\n",
       "499   2014-07-18 09:00:00\n",
       "500   2014-08-15 09:00:00\n",
       "501   2014-09-19 09:00:00\n",
       "502   2014-10-17 09:00:00\n",
       "503   2014-11-21 09:00:00\n",
       "Name: MATURITY, dtype: datetime64[ns]"
      ]
     },
     "execution_count": 78,
     "metadata": {},
     "output_type": "execute_result"
    }
   ],
   "source": [
    "futures_data['MATURITY']\n",
    " # MATURITY라는 이름을 가진 열을 선택"
   ]
  },
  {
   "cell_type": "code",
   "execution_count": 79,
   "metadata": {},
   "outputs": [
    {
     "data": {
      "text/plain": [
       "DATE         2014-03-31 09:00:00\n",
       "EXP_YEAR                    2014\n",
       "EXP_MONTH                      4\n",
       "TYPE                           C\n",
       "STRIKE                         1\n",
       "PRICE                      16.85\n",
       "MATURITY     2014-04-18 09:00:00\n",
       "TTM                        0.049\n",
       "IMP_VOL                        0\n",
       "Name: 46170, dtype: object"
      ]
     },
     "execution_count": 79,
     "metadata": {},
     "output_type": "execute_result"
    }
   ],
   "source": [
    "options_data.loc[46170]\n",
    " # 인덱스 값이 46170인 행을 선택"
   ]
  },
  {
   "cell_type": "code",
   "execution_count": 80,
   "metadata": {},
   "outputs": [
    {
     "data": {
      "text/plain": [
       "1.0"
      ]
     },
     "execution_count": 80,
     "metadata": {},
     "output_type": "execute_result"
    }
   ],
   "source": [
    "options_data.loc[46170]['STRIKE']\n",
    "# STRIKE라는 이름을 가진 열, 46170라는 인덱스를 가진 행의 데이터를 선택"
   ]
  },
  {
   "cell_type": "markdown",
   "metadata": {},
   "source": [
    "옵션의 내재 변동성을 시각화해보자. 내재 변동성이 계산도니 것만 이용해 보자"
   ]
  },
  {
   "cell_type": "code",
   "execution_count": 93,
   "metadata": {},
   "outputs": [
    {
     "data": {
      "text/html": [
       "<div>\n",
       "<style scoped>\n",
       "    .dataframe tbody tr th:only-of-type {\n",
       "        vertical-align: middle;\n",
       "    }\n",
       "\n",
       "    .dataframe tbody tr th {\n",
       "        vertical-align: top;\n",
       "    }\n",
       "\n",
       "    .dataframe thead th {\n",
       "        text-align: right;\n",
       "    }\n",
       "</style>\n",
       "<table border=\"1\" class=\"dataframe\">\n",
       "  <thead>\n",
       "    <tr style=\"text-align: right;\">\n",
       "      <th></th>\n",
       "      <th>DATE</th>\n",
       "      <th>EXP_YEAR</th>\n",
       "      <th>EXP_MONTH</th>\n",
       "      <th>TYPE</th>\n",
       "      <th>STRIKE</th>\n",
       "      <th>PRICE</th>\n",
       "      <th>MATURITY</th>\n",
       "      <th>TTM</th>\n",
       "      <th>IMP_VOL</th>\n",
       "    </tr>\n",
       "  </thead>\n",
       "  <tbody>\n",
       "    <tr>\n",
       "      <th>46178</th>\n",
       "      <td>2014-03-31 09:00:00</td>\n",
       "      <td>2014</td>\n",
       "      <td>4</td>\n",
       "      <td>C</td>\n",
       "      <td>9.0</td>\n",
       "      <td>8.85</td>\n",
       "      <td>2014-04-18 09:00:00</td>\n",
       "      <td>0.049</td>\n",
       "      <td>2.083386</td>\n",
       "    </tr>\n",
       "    <tr>\n",
       "      <th>46179</th>\n",
       "      <td>2014-03-31 09:00:00</td>\n",
       "      <td>2014</td>\n",
       "      <td>4</td>\n",
       "      <td>C</td>\n",
       "      <td>10.0</td>\n",
       "      <td>7.85</td>\n",
       "      <td>2014-04-18 09:00:00</td>\n",
       "      <td>0.049</td>\n",
       "      <td>1.804194</td>\n",
       "    </tr>\n",
       "    <tr>\n",
       "      <th>46180</th>\n",
       "      <td>2014-03-31 09:00:00</td>\n",
       "      <td>2014</td>\n",
       "      <td>4</td>\n",
       "      <td>C</td>\n",
       "      <td>11.0</td>\n",
       "      <td>6.85</td>\n",
       "      <td>2014-04-18 09:00:00</td>\n",
       "      <td>0.049</td>\n",
       "      <td>1.550283</td>\n",
       "    </tr>\n",
       "    <tr>\n",
       "      <th>46181</th>\n",
       "      <td>2014-03-31 09:00:00</td>\n",
       "      <td>2014</td>\n",
       "      <td>4</td>\n",
       "      <td>C</td>\n",
       "      <td>12.0</td>\n",
       "      <td>5.85</td>\n",
       "      <td>2014-04-18 09:00:00</td>\n",
       "      <td>0.049</td>\n",
       "      <td>1.316103</td>\n",
       "    </tr>\n",
       "    <tr>\n",
       "      <th>46182</th>\n",
       "      <td>2014-03-31 09:00:00</td>\n",
       "      <td>2014</td>\n",
       "      <td>4</td>\n",
       "      <td>C</td>\n",
       "      <td>13.0</td>\n",
       "      <td>4.85</td>\n",
       "      <td>2014-04-18 09:00:00</td>\n",
       "      <td>0.049</td>\n",
       "      <td>1.097184</td>\n",
       "    </tr>\n",
       "  </tbody>\n",
       "</table>\n",
       "</div>"
      ],
      "text/plain": [
       "                     DATE  EXP_YEAR  EXP_MONTH TYPE  STRIKE  PRICE  \\\n",
       "46178 2014-03-31 09:00:00      2014          4    C     9.0   8.85   \n",
       "46179 2014-03-31 09:00:00      2014          4    C    10.0   7.85   \n",
       "46180 2014-03-31 09:00:00      2014          4    C    11.0   6.85   \n",
       "46181 2014-03-31 09:00:00      2014          4    C    12.0   5.85   \n",
       "46182 2014-03-31 09:00:00      2014          4    C    13.0   4.85   \n",
       "\n",
       "                 MATURITY    TTM   IMP_VOL  \n",
       "46178 2014-04-18 09:00:00  0.049  2.083386  \n",
       "46179 2014-04-18 09:00:00  0.049  1.804194  \n",
       "46180 2014-04-18 09:00:00  0.049  1.550283  \n",
       "46181 2014-04-18 09:00:00  0.049  1.316103  \n",
       "46182 2014-04-18 09:00:00  0.049  1.097184  "
      ]
     },
     "execution_count": 93,
     "metadata": {},
     "output_type": "execute_result"
    }
   ],
   "source": [
    "plot_data = options_data[options_data['IMP_VOL'] > 0]\n",
    "plot_data.head()"
   ]
  },
  {
   "cell_type": "markdown",
   "metadata": {},
   "source": [
    "만기별로 그림을 그리는 코드이며, 결과는 그림 [3-1]이다. 주식이나 외환시장과 마찬가지로 변동성 스마일 현상을 볼 수 있다. 또한 변동성 스마일은 만기가 짧을 수록 더 두드러지고 만기가 길어지면 약해진다."
   ]
  },
  {
   "cell_type": "code",
   "execution_count": 88,
   "metadata": {},
   "outputs": [
    {
     "data": {
      "text/plain": [
       "[Timestamp('2014-04-18 09:00:00'),\n",
       " Timestamp('2014-05-16 09:00:00'),\n",
       " Timestamp('2014-06-20 09:00:00'),\n",
       " Timestamp('2014-07-18 09:00:00'),\n",
       " Timestamp('2014-08-15 09:00:00'),\n",
       " Timestamp('2014-09-19 09:00:00'),\n",
       " Timestamp('2014-10-17 09:00:00'),\n",
       " Timestamp('2014-11-21 09:00:00')]"
      ]
     },
     "execution_count": 88,
     "metadata": {},
     "output_type": "execute_result"
    }
   ],
   "source": [
    "maturities = sorted(set(options_data['MATURITY']))\n",
    "maturities"
   ]
  },
  {
   "cell_type": "code",
   "execution_count": 89,
   "metadata": {},
   "outputs": [],
   "source": [
    "from matplotlib import pyplot as plt\n",
    "%matplotlib inline"
   ]
  },
  {
   "cell_type": "code",
   "execution_count": 111,
   "metadata": {},
   "outputs": [
    {
     "data": {
      "image/png": "[encoded data removed]",
      "text/plain": [
       "<Figure size 1152x864 with 1 Axes>"
      ]
     },
     "metadata": {},
     "output_type": "display_data"
    }
   ],
   "source": [
    "plt.figure(figsize=(16, 12))\n",
    "\n",
    "for maturity in maturities:\n",
    "    data = plot_data[options_data.MATURITY == maturity]\n",
    "    # 만기 maturity 값을 가진 자료만 선택\n",
    "    plt.plot(data['STRIKE'], data['IMP_VOL'], label=maturity.date(), lw=1.5)\n",
    "    plt.plot(data['STRIKE'], data['IMP_VOL'], 'r.', label='')\n",
    "plt.grid(True)\n",
    "plt.xlabel('strike')\n",
    "plt.ylabel('implied volatility of volatility')\n",
    "plt.title('Implied volatilities (of volatility) for European call options on the VSTOXX on 31. March 2014')\n",
    "plt.legend()\n",
    "plt.show()"
   ]
  },
  {
   "cell_type": "markdown",
   "metadata": {},
   "source": [
    "groupby 메서드를 사용하여 새로운 인덱스를 만들어보자. 우선 MATURITY를 기준으로 그룹화하고 이를 다시 STRIKE 기준으로 그룹화한다. 이떄 PRICE 열과 IMP_VOL 열은 유지한다."
   ]
  },
  {
   "cell_type": "code",
   "execution_count": 124,
   "metadata": {},
   "outputs": [
    {
     "data": {
      "text/plain": [
       "<pandas.core.groupby.groupby.DataFrameGroupBy object at 0x10ae1c668>"
      ]
     },
     "execution_count": 124,
     "metadata": {},
     "output_type": "execute_result"
    }
   ],
   "source": [
    "keep = ['PRICE', 'IMP_VOL']\n",
    "\n",
    "group_data = plot_data.groupby(['MATURITY', 'STRIKE'])[keep]\n",
    "group_data"
   ]
  },
  {
   "cell_type": "markdown",
   "metadata": {},
   "source": [
    "Groupby 연산 이후 자료를 얻기 위해서는 sum과 같은 취합 연산(aggregation)을 해야 한다. 그룹당 하나의 자료밖에 없기 때문에 sum을 하면 바로 그 자료가 나온다."
   ]
  },
  {
   "cell_type": "code",
   "execution_count": 125,
   "metadata": {},
   "outputs": [],
   "source": [
    "group_data = group_data.sum()"
   ]
  },
  {
   "cell_type": "code",
   "execution_count": 126,
   "metadata": {},
   "outputs": [
    {
     "data": {
      "text/html": [
       "<div>\n",
       "<style scoped>\n",
       "    .dataframe tbody tr th:only-of-type {\n",
       "        vertical-align: middle;\n",
       "    }\n",
       "\n",
       "    .dataframe tbody tr th {\n",
       "        vertical-align: top;\n",
       "    }\n",
       "\n",
       "    .dataframe thead th {\n",
       "        text-align: right;\n",
       "    }\n",
       "</style>\n",
       "<table border=\"1\" class=\"dataframe\">\n",
       "  <thead>\n",
       "    <tr style=\"text-align: right;\">\n",
       "      <th></th>\n",
       "      <th></th>\n",
       "      <th>PRICE</th>\n",
       "      <th>IMP_VOL</th>\n",
       "    </tr>\n",
       "    <tr>\n",
       "      <th>MATURITY</th>\n",
       "      <th>STRIKE</th>\n",
       "      <th></th>\n",
       "      <th></th>\n",
       "    </tr>\n",
       "  </thead>\n",
       "  <tbody>\n",
       "    <tr>\n",
       "      <th rowspan=\"5\" valign=\"top\">2014-04-18 09:00:00</th>\n",
       "      <th>9.0</th>\n",
       "      <td>8.85</td>\n",
       "      <td>2.083386</td>\n",
       "    </tr>\n",
       "    <tr>\n",
       "      <th>10.0</th>\n",
       "      <td>7.85</td>\n",
       "      <td>1.804194</td>\n",
       "    </tr>\n",
       "    <tr>\n",
       "      <th>11.0</th>\n",
       "      <td>6.85</td>\n",
       "      <td>1.550283</td>\n",
       "    </tr>\n",
       "    <tr>\n",
       "      <th>12.0</th>\n",
       "      <td>5.85</td>\n",
       "      <td>1.316103</td>\n",
       "    </tr>\n",
       "    <tr>\n",
       "      <th>13.0</th>\n",
       "      <td>4.85</td>\n",
       "      <td>1.097184</td>\n",
       "    </tr>\n",
       "  </tbody>\n",
       "</table>\n",
       "</div>"
      ],
      "text/plain": [
       "                            PRICE   IMP_VOL\n",
       "MATURITY            STRIKE                 \n",
       "2014-04-18 09:00:00 9.0      8.85  2.083386\n",
       "                    10.0     7.85  1.804194\n",
       "                    11.0     6.85  1.550283\n",
       "                    12.0     5.85  1.316103\n",
       "                    13.0     4.85  1.097184"
      ]
     },
     "execution_count": 126,
     "metadata": {},
     "output_type": "execute_result"
    }
   ],
   "source": [
    "group_data.head()"
   ]
  },
  {
   "cell_type": "markdown",
   "metadata": {},
   "source": [
    "이 겨로가로 나온 DataFrame 객체는 2계층 인덱스와 2개의 열을 가진다. 인덱스 값은 다음과 같다."
   ]
  },
  {
   "cell_type": "code",
   "execution_count": 130,
   "metadata": {},
   "outputs": [
    {
     "data": {
      "text/plain": [
       "FrozenList([[2014-04-18 09:00:00, 2014-05-16 09:00:00, 2014-06-20 09:00:00, 2014-07-18 09:00:00, 2014-08-15 09:00:00, 2014-09-19 09:00:00, 2014-10-17 09:00:00, 2014-11-21 09:00:00], [9.0, 10.0, 11.0, 12.0, 13.0, 14.0, 15.0, 16.0, 17.0, 18.0, 19.0, 20.0, 21.0, 22.0, 23.0, 24.0, 25.0, 26.0, 27.0, 28.0, 29.0, 30.0]])"
      ]
     },
     "execution_count": 130,
     "metadata": {},
     "output_type": "execute_result"
    }
   ],
   "source": [
    "group_data.index.levels"
   ]
  },
  {
   "cell_type": "markdown",
   "metadata": {},
   "source": [
    "## 3-2 몬테카를로 시뮬레이션"
   ]
  },
  {
   "cell_type": "markdown",
   "metadata": {},
   "source": [
    "다른 수치해석 방법과 달리 몬테카를로 방법은 계싼량이나 복잡도가 차원에 따라 선형적으로 증가하기 때문에 고차원 문제를 쉽게 풀 수 있다.\n",
    "\n",
    "몬테카를로 방법의 단점은 아주 쉬운 문제를 푸는 데에도 계산량이 많고 메모리를 많이 요구한다는 점이다. 따라서 이를 효율적으로 구현하는 것이 중요하다."
   ]
  },
  {
   "cell_type": "markdown",
   "metadata": {},
   "source": [
    "*** 순수 파이썬 구현 ***\n",
    "\n",
    "*** NumPy를 사용한 벡터화 ***\n",
    "\n",
    "*** 완전 벡터화 ***"
   ]
  },
  {
   "cell_type": "code",
   "execution_count": 134,
   "metadata": {},
   "outputs": [
    {
     "data": {
      "text/plain": [
       "8.021352235143176"
      ]
     },
     "execution_count": 134,
     "metadata": {},
     "output_type": "execute_result"
    }
   ],
   "source": [
    "S0 = 100\n",
    "K = 105\n",
    "T = 1\n",
    "r = 0.05\n",
    "sigma = 0.2\n",
    "bsm_call_value(S0, K, T, r, sigma)"
   ]
  },
  {
   "cell_type": "markdown",
   "metadata": {},
   "source": [
    "### 3-2-1 순수 파이썬 구현"
   ]
  },
  {
   "cell_type": "markdown",
   "metadata": {},
   "source": [
    "이 코드는 하나의 경로를 50개의 구간으로 나누며 250,000개의 샘플 경로를 생성한다."
   ]
  },
  {
   "cell_type": "code",
   "execution_count": 141,
   "metadata": {},
   "outputs": [],
   "source": [
    "from time import time\n",
    "from math import exp, sqrt, log\n",
    "from random import gauss, seed\n",
    "\n",
    "seed(20000)\n",
    "t0 = time()\n",
    "\n",
    "# parameters, 인수\n",
    "S0 = 100. # 초깃값\n",
    "K = 105. # 행사가\n",
    "T = 1.0 # 만기\n",
    "r = 0.05 # 무위험 단기 이자율\n",
    "sigmia = 0.2 # 변동성\n",
    "M = 50 # 시간 구간 개수\n",
    "dt = T / M # 하나의 시간 구간의 길이\n",
    "I = 250000 # 샘플 경로의 수\n",
    "\n",
    "# 경로 하나당 M개의 시간 구간을 가지는 I개의 샘플 경로를 생성\n",
    "S = []\n",
    "for i in range(I):\n",
    "    path = []\n",
    "    for t in range(M + 1):\n",
    "        if t == 0:\n",
    "            path.append(S0)\n",
    "        else:\n",
    "            z = gauss(0.0, 1.0)\n",
    "            St = path[t - 1] * exp((r - 0.5 * sigma ** 2) * dt\n",
    "                                  + sigma * sqrt(dt) * z)\n",
    "            path.append(St)\n",
    "    S.append(path)"
   ]
  },
  {
   "cell_type": "code",
   "execution_count": 144,
   "metadata": {},
   "outputs": [],
   "source": [
    "import numpy as np"
   ]
  },
  {
   "cell_type": "code",
   "execution_count": 145,
   "metadata": {},
   "outputs": [
    {
     "data": {
      "text/plain": [
       "(250000, 51)"
      ]
     },
     "execution_count": 145,
     "metadata": {},
     "output_type": "execute_result"
    }
   ],
   "source": [
    "np.shape"
   ]
  },
  {
   "cell_type": "code",
   "execution_count": null,
   "metadata": {},
   "outputs": [],
   "source": []
  },
  {
   "cell_type": "code",
   "execution_count": null,
   "metadata": {},
   "outputs": [],
   "source": []
  },
  {
   "cell_type": "code",
   "execution_count": null,
   "metadata": {},
   "outputs": [],
   "source": []
  },
  {
   "cell_type": "code",
   "execution_count": null,
   "metadata": {},
   "outputs": [],
   "source": []
  }
 ],
 "metadata": {
  "kernelspec": {
   "display_name": "Python 3",
   "language": "python",
   "name": "python3"
  },
  "language_info": {
   "codemirror_mode": {
    "name": "ipython",
    "version": 3
   },
   "file_extension": ".py",
   "mimetype": "text/x-python",
   "name": "python",
   "nbconvert_exporter": "python",
   "pygments_lexer": "ipython3",
   "version": "3.6.4"
  }
 },
 "nbformat": 4,
 "nbformat_minor": 2
}
